{
 "cells": [
  {
   "cell_type": "code",
   "execution_count": 1,
   "id": "4dc21314",
   "metadata": {},
   "outputs": [],
   "source": [
    "import numpy as np"
   ]
  },
  {
   "cell_type": "code",
   "execution_count": 2,
   "id": "f87fb5cc",
   "metadata": {},
   "outputs": [],
   "source": [
    "def process_text(filename):\n",
    "    with open(filename, 'r') as file:\n",
    "        data = file.read()\n",
    "    chars = list(set(data))\n",
    "    char_to_ix = {ch: i for i, ch in enumerate(chars)}\n",
    "    ix_to_char = {i: ch for i, ch in enumerate(chars)}\n",
    "    return data, char_to_ix, ix_to_char"
   ]
  },
  {
   "cell_type": "code",
   "execution_count": 3,
   "id": "78ae54c7",
   "metadata": {},
   "outputs": [],
   "source": [
    "def initialize_parameters(hidden_size, vocab_size):\n",
    "    Wxh = np.random.randn(hidden_size, vocab_size) * 0.01\n",
    "    Whh = np.random.randn(hidden_size, hidden_size) * 0.01\n",
    "    Why = np.random.randn(vocab_size, hidden_size) * 0.01\n",
    "    bh = np.zeros((hidden_size, 1))\n",
    "    by = np.zeros((vocab_size, 1))\n",
    "    return Wxh, Whh, Why, bh, by"
   ]
  },
  {
   "cell_type": "code",
   "execution_count": 4,
   "id": "4ecda57a",
   "metadata": {},
   "outputs": [],
   "source": [
    "def rnn_forward(inputs, targets, hprev, Wxh, Whh, Why, bh, by):\n",
    "    xs, hs, ys, ps = {}, {}, {}, {}\n",
    "    hs[-1] = np.copy(hprev)\n",
    "    loss = 0\n",
    "\n",
    "    for t in range(len(inputs)):\n",
    "        xs[t] = np.zeros((vocab_size, 1))\n",
    "        xs[t][inputs[t]] = 1\n",
    "        hs[t] = np.tanh(np.dot(Wxh, xs[t]) + np.dot(Whh, hs[t-1]) + bh)\n",
    "        ys[t] = np.dot(Why, hs[t]) + by\n",
    "        ps[t] = np.exp(ys[t]) / np.sum(np.exp(ys[t]))\n",
    "        loss += -np.log(ps[t][targets[t], 0])\n",
    "\n",
    "    return loss, xs, hs, ys, ps"
   ]
  },
  {
   "cell_type": "code",
   "execution_count": 5,
   "id": "97552c5f",
   "metadata": {},
   "outputs": [],
   "source": [
    "def rnn_backward(inputs, targets, xs, hs, ys, ps, Wxh, Whh, Why, bh, by):\n",
    "    dWxh, dWhh, dWhy = np.zeros_like(Wxh), np.zeros_like(Whh), np.zeros_like(Why)\n",
    "    dbh, dby = np.zeros_like(bh), np.zeros_like(by)\n",
    "    dhnext = np.zeros_like(hs[0])\n",
    "\n",
    "    for t in reversed(range(len(inputs))):\n",
    "        dy = np.copy(ps[t])\n",
    "        dy[targets[t]] -= 1\n",
    "        dWhy += np.dot(dy, hs[t].T)\n",
    "        dby += dy\n",
    "        dh = np.dot(Why.T, dy) + dhnext\n",
    "        dhraw = (1 - hs[t] * hs[t]) * dh\n",
    "        dbh += dhraw\n",
    "        dWxh += np.dot(dhraw, xs[t].T)\n",
    "        dWhh += np.dot(dhraw, hs[t - 1].T)\n",
    "        dhnext = np.dot(Whh.T, dhraw)\n",
    "\n",
    "    for dparam in [dWxh, dWhh, dWhy, dbh, dby]:\n",
    "        np.clip(dparam, -5, 5, out=dparam)\n",
    "\n",
    "    return dWxh, dWhh, dWhy, dbh, dby"
   ]
  },
  {
   "cell_type": "code",
   "execution_count": 6,
   "id": "ace66450",
   "metadata": {},
   "outputs": [],
   "source": [
    "def sample(h, seed_ix, n):\n",
    "    x = np.zeros((vocab_size, 1))\n",
    "    x[seed_ix] = 1\n",
    "    ixes = []\n",
    "\n",
    "    for t in range(n):\n",
    "        h = np.tanh(np.dot(Wxh, x) + np.dot(Whh, h) + bh)\n",
    "        y = np.dot(Why, h) + by\n",
    "        p = np.exp(y) / np.sum(np.exp(y))\n",
    "        ix = np.random.choice(range(vocab_size), p=p.ravel())\n",
    "        x = np.zeros((vocab_size, 1))\n",
    "        x[ix] = 1\n",
    "        ixes.append(ix)\n",
    "\n",
    "    return ixes"
   ]
  },
  {
   "cell_type": "code",
   "execution_count": 7,
   "id": "7f69fcfc",
   "metadata": {},
   "outputs": [],
   "source": [
    "data, char_to_ix, ix_to_char = process_text('alice_in_wonderland.txt')\n",
    "\n",
    "hidden_size = 100\n",
    "vocab_size = len(char_to_ix)\n",
    "seq_length = 25\n",
    "learning_rate = 1e-1\n",
    "\n",
    "Wxh, Whh, Why, bh, by = initialize_parameters(hidden_size, vocab_size)"
   ]
  },
  {
   "cell_type": "code",
   "execution_count": 8,
   "id": "45133389",
   "metadata": {},
   "outputs": [],
   "source": [
    "def lossFun(inputs, targets, hprev):\n",
    "    loss, xs, hs, ys, ps = rnn_forward(inputs, targets, hprev, Wxh, Whh, Why, bh, by)\n",
    "    gradients = rnn_backward(inputs, targets, xs, hs, ys, ps, Wxh, Whh, Why, bh, by)\n",
    "    return loss, *gradients, hs[len(inputs) - 1]"
   ]
  },
  {
   "cell_type": "code",
   "execution_count": 9,
   "id": "192c8bdb",
   "metadata": {},
   "outputs": [],
   "source": [
    "n, p = 0, 0\n",
    "mWxh, mWhh, mWhy = np.zeros_like(Wxh), np.zeros_like(Whh), np.zeros_like(Why)\n",
    "mbh, mby = np.zeros_like(bh), np.zeros_like(by)\n",
    "smooth_loss = -np.log(1.0 / vocab_size) * seq_length"
   ]
  },
  {
   "cell_type": "code",
   "execution_count": 10,
   "id": "c4ec2329",
   "metadata": {},
   "outputs": [
    {
     "name": "stdout",
     "output_type": "stream",
     "text": [
      "\n",
      "\n",
      "\n",
      "\n",
      " 2O)4e@jUyK*aHCdfWL 2DxQZ[FNC6FbKbhyb=NXGR15_96BSHMwWj\n",
      "2!ipXAv@Tra-`CAS6@P!5COL!6vYKH\n",
      "MHi\"1bL)nIB?H6Vd3Mk\"='Ut4t931?]mF3;PW;6,eT!'NbU_VMd68 )!U?\n",
      "\"cwk9oj\"l9FX[4d5D;]8](1Z?,u=tRIc1THeLT0qW)YO12aV3m5tG*\n",
      "I\n",
      "iter #0, loss: 109.86122216810888\n",
      "\n",
      "\n",
      "\n",
      "\n",
      "  `l l ellakdellA srt  l.eeo \n",
      "p `ae retae lelkolmilhesait ila lpelsr ee uetyep stlec esdotlnl  sWe vesg  h ` is edOessend s  t e\n",
      "a e etweloulheame\n",
      "oe  Tmt l en, lwe\n",
      "aer tpaethelW narnaC`  ll tlelsellit\n",
      "iter #100, loss: 109.4489201756467\n",
      "\n",
      "\n",
      "\n",
      "\n",
      " o `a  danaaPu  sh\n",
      ",irtRatWrhy  gidw ug t saltnoa hndOweo ra\n",
      "sy\n",
      "tweaafe `taiIr ,einaahaudh wyktAt  i e\n",
      "arinVfrwuhvwd a,a, otho  dirt hnstasnnAna nivtq`t spmeatita , uh' acdrt\n",
      "-ewhcstor y\n",
      "tg-wyih f  eni\n",
      "iter #200, loss: 107.10096071122908\n",
      "\n",
      "\n",
      "\n",
      "\n",
      " t ateir filo:sse )p  ln dt v s on weo keme:o rhj d tu ilte\n",
      "nnc rrlh kg`gele segueaoitowehherin\n",
      "we\n",
      "on  tloy adoflr dmh,thhn di ole !e Hn telkee'nt fgnft\n",
      "o rwwognrynnkor?r a iatoS tblent awsels go e\n",
      "ogi\n",
      "iter #300, loss: 104.35490316677425\n",
      "\n",
      "\n",
      "\n",
      "\n",
      " ikeseyciw   wglrt nhore s  h\n",
      "iho:re oeohenhhihwtoh ,ut  th) r tibehgo tut chu  h n! al tu,tp\n",
      ",egttluwtle d eh  too ns c  mhei hoa abronsr ted  yfe  t iRpoho swlutre ,o cedh tig tse naheyemer  isfid hs\n",
      "iter #400, loss: 101.7187651507048\n"
     ]
    }
   ],
   "source": [
    "for _ in range(500):\n",
    "    if p + seq_length + 1 >= len(data) or n == 0:\n",
    "        hprev = np.zeros((hidden_size, 1))\n",
    "        p = 0\n",
    "    inputs = [char_to_ix[ch] for ch in data[p:p + seq_length]]\n",
    "    targets = [char_to_ix[ch] for ch in data[p + 1:p + seq_length + 1]]\n",
    "\n",
    "    if n % 100 == 0:\n",
    "        sample_ix = sample(hprev, inputs[0], 200)\n",
    "        txt = ''.join(ix_to_char[ix] for ix in sample_ix)\n",
    "        print(f'\\n\\n\\n\\n {txt}')\n",
    "\n",
    "    loss, dWxh, dWhh, dWhy, dbh, dby, hprev = lossFun(inputs, targets, hprev)\n",
    "    smooth_loss = smooth_loss * 0.999 + loss * 0.001\n",
    "    if n % 100 == 0:\n",
    "        print(f'iter #{n}, loss: {smooth_loss}')\n",
    "\n",
    "    for param, dparam, mem in zip([Wxh, Whh, Why, bh, by], [dWxh, dWhh, dWhy, dbh, dby], [mWxh, mWhh, mWhy, mbh, mby]):\n",
    "        mem += dparam * dparam\n",
    "        param += -learning_rate * dparam / np.sqrt(mem + 1e-8)\n",
    "\n",
    "    p += seq_length\n",
    "    n += 1"
   ]
  }
 ],
 "metadata": {
  "kernelspec": {
   "display_name": "Python 3 (ipykernel)",
   "language": "python",
   "name": "python3"
  },
  "language_info": {
   "codemirror_mode": {
    "name": "ipython",
    "version": 3
   },
   "file_extension": ".py",
   "mimetype": "text/x-python",
   "name": "python",
   "nbconvert_exporter": "python",
   "pygments_lexer": "ipython3",
   "version": "3.10.9"
  }
 },
 "nbformat": 4,
 "nbformat_minor": 5
}
